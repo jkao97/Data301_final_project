{
 "cells": [
  {
   "cell_type": "code",
   "execution_count": 1,
   "metadata": {},
   "outputs": [
    {
     "data": {
      "text/html": [
       "<div>\n",
       "<style scoped>\n",
       "    .dataframe tbody tr th:only-of-type {\n",
       "        vertical-align: middle;\n",
       "    }\n",
       "\n",
       "    .dataframe tbody tr th {\n",
       "        vertical-align: top;\n",
       "    }\n",
       "\n",
       "    .dataframe thead th {\n",
       "        text-align: right;\n",
       "    }\n",
       "</style>\n",
       "<table border=\"1\" class=\"dataframe\">\n",
       "  <thead>\n",
       "    <tr style=\"text-align: right;\">\n",
       "      <th></th>\n",
       "      <th>id</th>\n",
       "      <th>abv</th>\n",
       "      <th>available</th>\n",
       "      <th>description</th>\n",
       "      <th>glass</th>\n",
       "      <th>ibu</th>\n",
       "      <th>isOrganic</th>\n",
       "      <th>name</th>\n",
       "      <th>originalGravity</th>\n",
       "      <th>srm</th>\n",
       "    </tr>\n",
       "  </thead>\n",
       "  <tbody>\n",
       "    <tr>\n",
       "      <th>0</th>\n",
       "      <td>0</td>\n",
       "      <td>8.2</td>\n",
       "      <td>Available at the same time of year, every year.</td>\n",
       "      <td>A Belgian-Abbey-Style Tripel that is big in al...</td>\n",
       "      <td>NaN</td>\n",
       "      <td>31.0</td>\n",
       "      <td>N</td>\n",
       "      <td>LoonyToonTripel</td>\n",
       "      <td>1.070</td>\n",
       "      <td>8</td>\n",
       "    </tr>\n",
       "    <tr>\n",
       "      <th>1</th>\n",
       "      <td>1</td>\n",
       "      <td>5.7</td>\n",
       "      <td>Available at the same time of year, every year.</td>\n",
       "      <td>Covert Hops is a crafty ale. Its stealthy dark...</td>\n",
       "      <td>Pint</td>\n",
       "      <td>45.0</td>\n",
       "      <td>N</td>\n",
       "      <td>Covert Hops</td>\n",
       "      <td>1.056</td>\n",
       "      <td>35</td>\n",
       "    </tr>\n",
       "    <tr>\n",
       "      <th>2</th>\n",
       "      <td>2</td>\n",
       "      <td>5.8</td>\n",
       "      <td>Available at the same time of year, every year.</td>\n",
       "      <td>This is a traditional German-style Marzen char...</td>\n",
       "      <td>Mug</td>\n",
       "      <td>25.0</td>\n",
       "      <td>N</td>\n",
       "      <td>Oktoberfest</td>\n",
       "      <td>1.048</td>\n",
       "      <td>10</td>\n",
       "    </tr>\n",
       "    <tr>\n",
       "      <th>3</th>\n",
       "      <td>3</td>\n",
       "      <td>5.5</td>\n",
       "      <td>Available year round as a staple beer.</td>\n",
       "      <td>A West Coast-Style Pale Ale balancing plenty o...</td>\n",
       "      <td>Pint</td>\n",
       "      <td>55.0</td>\n",
       "      <td>N</td>\n",
       "      <td>Pale Ale</td>\n",
       "      <td>1.044</td>\n",
       "      <td>5</td>\n",
       "    </tr>\n",
       "    <tr>\n",
       "      <th>4</th>\n",
       "      <td>4</td>\n",
       "      <td>4.8</td>\n",
       "      <td>Available year round as a staple beer.</td>\n",
       "      <td>This Bombshell has a tantalizing crisp and cle...</td>\n",
       "      <td>Pint</td>\n",
       "      <td>11.4</td>\n",
       "      <td>N</td>\n",
       "      <td>Head Turner Blonde Ale</td>\n",
       "      <td>1.045</td>\n",
       "      <td>3</td>\n",
       "    </tr>\n",
       "  </tbody>\n",
       "</table>\n",
       "</div>"
      ],
      "text/plain": [
       "   id  abv                                        available  \\\n",
       "0   0  8.2  Available at the same time of year, every year.   \n",
       "1   1  5.7  Available at the same time of year, every year.   \n",
       "2   2  5.8  Available at the same time of year, every year.   \n",
       "3   3  5.5           Available year round as a staple beer.   \n",
       "4   4  4.8           Available year round as a staple beer.   \n",
       "\n",
       "                                         description glass   ibu isOrganic  \\\n",
       "0  A Belgian-Abbey-Style Tripel that is big in al...   NaN  31.0         N   \n",
       "1  Covert Hops is a crafty ale. Its stealthy dark...  Pint  45.0         N   \n",
       "2  This is a traditional German-style Marzen char...   Mug  25.0         N   \n",
       "3  A West Coast-Style Pale Ale balancing plenty o...  Pint  55.0         N   \n",
       "4  This Bombshell has a tantalizing crisp and cle...  Pint  11.4         N   \n",
       "\n",
       "                     name  originalGravity  srm  \n",
       "0         LoonyToonTripel            1.070    8  \n",
       "1             Covert Hops            1.056   35  \n",
       "2             Oktoberfest            1.048   10  \n",
       "3                Pale Ale            1.044    5  \n",
       "4  Head Turner Blonde Ale            1.045    3  "
      ]
     },
     "execution_count": 1,
     "metadata": {},
     "output_type": "execute_result"
    }
   ],
   "source": [
    "import pandas as pd \n",
    "import numpy as np\n",
    "import matplotlib.pyplot as plt\n",
    "\n",
    "from sklearn.feature_extraction.text import TfidfVectorizer\n",
    "from sklearn.feature_extraction import DictVectorizer\n",
    "from sklearn.feature_extraction.text import CountVectorizer\n",
    "from sklearn.feature_extraction.text import TfidfTransformer\n",
    "from sklearn.preprocessing import StandardScaler\n",
    "from sklearn.model_selection import cross_val_score\n",
    "from sklearn.neighbors import KNeighborsRegressor\n",
    "from sklearn.linear_model import BayesianRidge\n",
    "from sklearn.svm import SVR\n",
    "from sklearn.gaussian_process import GaussianProcessRegressor\n",
    "from sklearn.neural_network import MLPRegressor\n",
    "from sklearn.linear_model import SGDRegressor\n",
    "from sklearn.pipeline import Pipeline\n",
    "\n",
    "%matplotlib inline\n",
    "\n",
    "beers = pd.read_csv(\n",
    "    \"https://raw.githubusercontent.com/dlsun/data-science-book/master/data/beer/beer_train.csv\"\n",
    ")\n",
    "beers_test = pd.read_csv(\n",
    "    \"https://raw.githubusercontent.com/dlsun/data-science-book/master/data/beer/beer_test.csv\"\n",
    ")\n",
    "beers.srm = beers.srm.str.replace('Over 40', '41').astype(int)\n",
    "beers.head()"
   ]
  },
  {
   "cell_type": "code",
   "execution_count": 2,
   "metadata": {},
   "outputs": [
    {
     "data": {
      "text/html": [
       "<div>\n",
       "<style scoped>\n",
       "    .dataframe tbody tr th:only-of-type {\n",
       "        vertical-align: middle;\n",
       "    }\n",
       "\n",
       "    .dataframe tbody tr th {\n",
       "        vertical-align: top;\n",
       "    }\n",
       "\n",
       "    .dataframe thead th {\n",
       "        text-align: right;\n",
       "    }\n",
       "</style>\n",
       "<table border=\"1\" class=\"dataframe\">\n",
       "  <thead>\n",
       "    <tr style=\"text-align: right;\">\n",
       "      <th></th>\n",
       "      <th>id</th>\n",
       "      <th>abv</th>\n",
       "      <th>available</th>\n",
       "      <th>description</th>\n",
       "      <th>glass</th>\n",
       "      <th>ibu</th>\n",
       "      <th>isOrganic</th>\n",
       "      <th>name</th>\n",
       "      <th>originalGravity</th>\n",
       "      <th>srm</th>\n",
       "    </tr>\n",
       "  </thead>\n",
       "  <tbody>\n",
       "    <tr>\n",
       "      <th>0</th>\n",
       "      <td>6000</td>\n",
       "      <td>10.0</td>\n",
       "      <td>Limited availability.</td>\n",
       "      <td>A classic Belgian Trappist style strong ale wi...</td>\n",
       "      <td>Tulip</td>\n",
       "      <td>NaN</td>\n",
       "      <td>N</td>\n",
       "      <td>She WILL!</td>\n",
       "      <td>1.084</td>\n",
       "      <td>17</td>\n",
       "    </tr>\n",
       "    <tr>\n",
       "      <th>1</th>\n",
       "      <td>6001</td>\n",
       "      <td>5.2</td>\n",
       "      <td>Available year round as a staple beer.</td>\n",
       "      <td>An American-style of Pale Ale brewed with a ba...</td>\n",
       "      <td>Pint</td>\n",
       "      <td>NaN</td>\n",
       "      <td>N</td>\n",
       "      <td>Defender American Pale Ale</td>\n",
       "      <td>1.044</td>\n",
       "      <td>22</td>\n",
       "    </tr>\n",
       "    <tr>\n",
       "      <th>2</th>\n",
       "      <td>6002</td>\n",
       "      <td>4.0</td>\n",
       "      <td>Available during the winter months.</td>\n",
       "      <td>This amber wheat ale has a balanced malt body,...</td>\n",
       "      <td>Tulip</td>\n",
       "      <td>NaN</td>\n",
       "      <td>Y</td>\n",
       "      <td>Hazel</td>\n",
       "      <td>1.036</td>\n",
       "      <td>19</td>\n",
       "    </tr>\n",
       "    <tr>\n",
       "      <th>3</th>\n",
       "      <td>6003</td>\n",
       "      <td>10.2</td>\n",
       "      <td>Available year round as a staple beer.</td>\n",
       "      <td>A uniquely large beer developed by taking our ...</td>\n",
       "      <td>Pint</td>\n",
       "      <td>NaN</td>\n",
       "      <td>N</td>\n",
       "      <td>Cinderella’s Twin Double IPA</td>\n",
       "      <td>1.087</td>\n",
       "      <td>11</td>\n",
       "    </tr>\n",
       "    <tr>\n",
       "      <th>4</th>\n",
       "      <td>6004</td>\n",
       "      <td>6.0</td>\n",
       "      <td>Limited availability.</td>\n",
       "      <td>An American red ale with crisp hop flavor.</td>\n",
       "      <td>NaN</td>\n",
       "      <td>NaN</td>\n",
       "      <td>N</td>\n",
       "      <td>Independence Ale</td>\n",
       "      <td>1.048</td>\n",
       "      <td>14</td>\n",
       "    </tr>\n",
       "  </tbody>\n",
       "</table>\n",
       "</div>"
      ],
      "text/plain": [
       "     id   abv                               available  \\\n",
       "0  6000  10.0                   Limited availability.   \n",
       "1  6001   5.2  Available year round as a staple beer.   \n",
       "2  6002   4.0     Available during the winter months.   \n",
       "3  6003  10.2  Available year round as a staple beer.   \n",
       "4  6004   6.0                   Limited availability.   \n",
       "\n",
       "                                         description  glass  ibu isOrganic  \\\n",
       "0  A classic Belgian Trappist style strong ale wi...  Tulip  NaN         N   \n",
       "1  An American-style of Pale Ale brewed with a ba...   Pint  NaN         N   \n",
       "2  This amber wheat ale has a balanced malt body,...  Tulip  NaN         Y   \n",
       "3  A uniquely large beer developed by taking our ...   Pint  NaN         N   \n",
       "4         An American red ale with crisp hop flavor.    NaN  NaN         N   \n",
       "\n",
       "                           name  originalGravity  srm  \n",
       "0                     She WILL!            1.084   17  \n",
       "1    Defender American Pale Ale            1.044   22  \n",
       "2                         Hazel            1.036   19  \n",
       "3  Cinderella’s Twin Double IPA            1.087   11  \n",
       "4              Independence Ale            1.048   14  "
      ]
     },
     "execution_count": 2,
     "metadata": {},
     "output_type": "execute_result"
    }
   ],
   "source": [
    "beers_test.srm = beers_test.srm.str.replace('Over 40', '41').astype(int)\n",
    "beers_test.head()"
   ]
  },
  {
   "cell_type": "code",
   "execution_count": 3,
   "metadata": {},
   "outputs": [],
   "source": [
    "#Best feature from 5A\n",
    "features1 = [\"abv\", \"isOrganic\", \"srm\", \"originalGravity\"]\n",
    "\n",
    "#Text Features\n",
    "features2 = \"description\"\n",
    "features3 = \"available\"\n",
    "features4 = \"glass\""
   ]
  },
  {
   "cell_type": "code",
   "execution_count": 4,
   "metadata": {},
   "outputs": [
    {
     "name": "stdout",
     "output_type": "stream",
     "text": [
      "Description (N-grams of 1): "
     ]
    },
    {
     "data": {
      "text/plain": [
       "32.37961166227137"
      ]
     },
     "execution_count": 4,
     "metadata": {},
     "output_type": "execute_result"
    }
   ],
   "source": [
    "x = beers[features2].fillna(\"\")\n",
    "y = beers[\"ibu\"]\n",
    "\n",
    "#For Training with Textual Data\n",
    "def pipe_and_train_text(x, y, n1, n2): \n",
    "    pipeline = Pipeline([\n",
    "        ('vect', CountVectorizer(ngram_range=(n1, n2))),\n",
    "        ('tfidf', TfidfTransformer()),\n",
    "        ('knn', KNeighborsRegressor()),\n",
    "    ])\n",
    "\n",
    "    scores = cross_val_score(pipeline, x, y, \n",
    "                                 cv=5, scoring=\"neg_mean_squared_error\")\n",
    "    return np.sqrt(np.mean(-scores))\n",
    "\n",
    "print(\"Description (N-grams of 1): \", end='')\n",
    "pipe_and_train_text(x, y, 1, 1)"
   ]
  },
  {
   "cell_type": "code",
   "execution_count": 5,
   "metadata": {},
   "outputs": [
    {
     "name": "stdout",
     "output_type": "stream",
     "text": [
      "Description (N-grams of 2,3): "
     ]
    },
    {
     "data": {
      "text/plain": [
       "32.29939521063565"
      ]
     },
     "execution_count": 5,
     "metadata": {},
     "output_type": "execute_result"
    }
   ],
   "source": [
    "print(\"Description (N-grams of 2,3): \", end='')\n",
    "pipe_and_train_text(x, y, 2, 3)"
   ]
  },
  {
   "cell_type": "code",
   "execution_count": 6,
   "metadata": {},
   "outputs": [
    {
     "name": "stdout",
     "output_type": "stream",
     "text": [
      "Availability (N-grams of 1): "
     ]
    },
    {
     "data": {
      "text/plain": [
       "30.31617494736927"
      ]
     },
     "execution_count": 6,
     "metadata": {},
     "output_type": "execute_result"
    }
   ],
   "source": [
    "x = beers[features3]\n",
    "print(\"Availability (N-grams of 1): \", end='')\n",
    "pipe_and_train_text(x, y, 1, 1)"
   ]
  },
  {
   "cell_type": "code",
   "execution_count": 7,
   "metadata": {},
   "outputs": [
    {
     "name": "stdout",
     "output_type": "stream",
     "text": [
      "Availability (N-grams of 2,3): "
     ]
    },
    {
     "data": {
      "text/plain": [
       "29.47777944214082"
      ]
     },
     "execution_count": 7,
     "metadata": {},
     "output_type": "execute_result"
    }
   ],
   "source": [
    "x = beers[features3]\n",
    "print(\"Availability (N-grams of 2,3): \", end='')\n",
    "pipe_and_train_text(x, y, 2, 3)"
   ]
  },
  {
   "cell_type": "code",
   "execution_count": 8,
   "metadata": {},
   "outputs": [
    {
     "name": "stdout",
     "output_type": "stream",
     "text": [
      "Description + Availability (N-grams of 1): "
     ]
    },
    {
     "data": {
      "text/plain": [
       "25.4605691865292"
      ]
     },
     "execution_count": 8,
     "metadata": {},
     "output_type": "execute_result"
    }
   ],
   "source": [
    "x = beers[features2].fillna(\"\")  + beers[features3]\n",
    "print(\"Description + Availability (N-grams of 1): \", end='')\n",
    "pipe_and_train_text(x, y, 1, 1)"
   ]
  },
  {
   "cell_type": "code",
   "execution_count": 9,
   "metadata": {},
   "outputs": [
    {
     "name": "stdout",
     "output_type": "stream",
     "text": [
      "Description + Availability (N-grams of 1, 2): "
     ]
    },
    {
     "data": {
      "text/plain": [
       "30.911666411505006"
      ]
     },
     "execution_count": 9,
     "metadata": {},
     "output_type": "execute_result"
    }
   ],
   "source": [
    "print(\"Description + Availability (N-grams of 1, 2): \", end='')\n",
    "pipe_and_train_text(x, y, 1, 2)"
   ]
  },
  {
   "cell_type": "code",
   "execution_count": 10,
   "metadata": {},
   "outputs": [
    {
     "name": "stdout",
     "output_type": "stream",
     "text": [
      "Description + Availability + Glass (N-grams of 1): "
     ]
    },
    {
     "data": {
      "text/plain": [
       "27.032879559727014"
      ]
     },
     "execution_count": 10,
     "metadata": {},
     "output_type": "execute_result"
    }
   ],
   "source": [
    "x = (beers[features2].fillna(\"\") + \n",
    "     beers[features3] + \n",
    "     beers[features4].fillna(\"\") )\n",
    "print(\"Description + Availability + Glass (N-grams of 1): \", end='')\n",
    "pipe_and_train_text(x, y, 1, 1)"
   ]
  },
  {
   "cell_type": "code",
   "execution_count": 11,
   "metadata": {},
   "outputs": [
    {
     "name": "stdout",
     "output_type": "stream",
     "text": [
      "Description + Availability + Glass (N-grams of 1, 2): "
     ]
    },
    {
     "data": {
      "text/plain": [
       "32.74267585170002"
      ]
     },
     "execution_count": 11,
     "metadata": {},
     "output_type": "execute_result"
    }
   ],
   "source": [
    "print(\"Description + Availability + Glass (N-grams of 1, 2): \", end='')\n",
    "pipe_and_train_text(x, y, 1, 2)"
   ]
  },
  {
   "cell_type": "code",
   "execution_count": 12,
   "metadata": {},
   "outputs": [],
   "source": [
    "#Generic Series Creator\n",
    "def set_series(start, end, increment=1, type=\"int\"):\n",
    "    temp = list(range(start, end, increment))\n",
    "    series = pd.Series(temp)\n",
    "    series = series.reindex(temp)\n",
    "    for x in temp:\n",
    "        series[x] = x\n",
    "    \n",
    "    if type is \"int\":\n",
    "        return series.astype(int)\n",
    "    else:\n",
    "        return series\n",
    "\n",
    "#Generic Pipe and Train for all Future Models\n",
    "def pipe_and_train(vec, scaler, model):\n",
    "    features = features1\n",
    "    x_dict = beers[features].to_dict(orient=\"records\")\n",
    "    y = beers[\"ibu\"]\n",
    "    pipeline = Pipeline([\n",
    "        (\"vectorizer\", vec), \n",
    "        (\"scaler\", scaler), \n",
    "        (\"fit\", model)])\n",
    "    scores = cross_val_score(pipeline, x_dict, y, \n",
    "                             cv=5, scoring=\"neg_mean_squared_error\")\n",
    "    return np.sqrt(np.mean(-scores))\n",
    "\n"
   ]
  },
  {
   "cell_type": "code",
   "execution_count": 17,
   "metadata": {},
   "outputs": [
    {
     "name": "stdout",
     "output_type": "stream",
     "text": [
      "10.0\n",
      "20.0\n",
      "30.0\n",
      "40.0\n"
     ]
    },
    {
     "data": {
      "text/plain": [
       "(10, 24.948643157052384)"
      ]
     },
     "execution_count": 17,
     "metadata": {},
     "output_type": "execute_result"
    },
    {
     "data": {
      "image/png": "[encoded data removed]",
      "text/plain": [
       "<Figure size 432x288 with 1 Axes>"
      ]
     },
     "metadata": {
      "needs_background": "light"
     },
     "output_type": "display_data"
    }
   ],
   "source": [
    "#Description and Availability Seems Promising\n",
    "def try_desc_available_nneighbor(k):\n",
    "    if (k % 10) == 0:\n",
    "        print(str(k))\n",
    "    x = beers[features2].fillna(\"\")  + beers[features3]\n",
    "    y = beers[\"ibu\"]\n",
    "    n1 = 1\n",
    "    n2 = 1\n",
    "    pipeline = Pipeline([\n",
    "        ('vect', CountVectorizer(ngram_range=(n1, n2))),\n",
    "        ('tfidf', TfidfTransformer()),\n",
    "        ('knn', KNeighborsRegressor(n_neighbors=int(round(k)))),\n",
    "    ])\n",
    "\n",
    "    scores = cross_val_score(pipeline, x, y, \n",
    "                                 cv=5, scoring=\"neg_mean_squared_error\")\n",
    "    return np.sqrt(np.mean(-scores))\n",
    "\n",
    "desc_available_series = set_series(1, 50, type=\"float\")\n",
    "desc_available_series = desc_available_series.apply(\n",
    "    try_desc_available_nneighbor)\n",
    "min_neighbor = desc_available_series.idxmin()\n",
    "plt.title(\"KNeighbors Text (Description + Availabile)\")\n",
    "plt.xlabel(\"N-Neighbors\")\n",
    "plt.ylabel(\"Crossover Result\")\n",
    "desc_available_series.plot.line()\n",
    "(desc_available_series.idxmin(),  desc_available_series.min())"
   ]
  },
  {
   "cell_type": "code",
   "execution_count": 18,
   "metadata": {},
   "outputs": [
    {
     "data": {
      "text/plain": [
       "25.87396103622714"
      ]
     },
     "execution_count": 18,
     "metadata": {},
     "output_type": "execute_result"
    }
   ],
   "source": [
    "######## Bayesian Ridge ##############\n",
    "\n",
    "#Standard Run \n",
    "(pipe_and_train(\n",
    "    DictVectorizer(sparse=False), \n",
    "    StandardScaler(), \n",
    "    BayesianRidge()))"
   ]
  },
  {
   "cell_type": "code",
   "execution_count": 19,
   "metadata": {},
   "outputs": [
    {
     "data": {
      "text/plain": [
       "(1, 25.866488522140752)"
      ]
     },
     "execution_count": 19,
     "metadata": {},
     "output_type": "execute_result"
    },
    {
     "data": {
      "image/png": "[encoded data removed]",
      "text/plain": [
       "<Figure size 432x288 with 1 Axes>"
      ]
     },
     "metadata": {
      "needs_background": "light"
     },
     "output_type": "display_data"
    }
   ],
   "source": [
    "def try_br_niter(k):\n",
    "    return (pipe_and_train(\n",
    "        DictVectorizer(sparse=False), \n",
    "        StandardScaler(), \n",
    "        BayesianRidge(\n",
    "            n_iter=int(round(k)))))\n",
    "\n",
    "#Look for general overall trend in relation to alpha value\n",
    "br_niter_series = set_series(1, 501, 10, type=\"float\")\n",
    "br_niter_series = br_niter_series.apply(try_br_niter)\n",
    "plt.title(\"Bayesian Ridge Iterations General Trend\")\n",
    "plt.xlabel(\"Iterations\")\n",
    "plt.ylabel(\"Crossover Score\")\n",
    "br_niter_series.plot.line()\n",
    "(br_niter_series.idxmin(), br_niter_series.min())"
   ]
  },
  {
   "cell_type": "code",
   "execution_count": 20,
   "metadata": {},
   "outputs": [
    {
     "data": {
      "text/plain": [
       "(1, 25.866488522140752)"
      ]
     },
     "execution_count": 20,
     "metadata": {},
     "output_type": "execute_result"
    },
    {
     "data": {
      "image/png": "[encoded data removed]",
      "text/plain": [
       "<Figure size 432x288 with 1 Axes>"
      ]
     },
     "metadata": {
      "needs_background": "light"
     },
     "output_type": "display_data"
    }
   ],
   "source": [
    "#Bayesian Ridge 1 - 10 iterations\n",
    "br_niter_series10 = set_series(1, 11, type=\"float\")\n",
    "br_niter_series10 = br_niter_series10.apply(try_br_niter)\n",
    "plt.title(\"Bayesian Ridge Iterations Closer Look\")\n",
    "plt.xlabel(\"Iterations\")\n",
    "plt.ylabel(\"Crossover Score\")\n",
    "br_niter_series10.plot.line()\n",
    "min_br_iter = br_niter_series10.idxmin()\n",
    "(br_niter_series10.idxmin(), br_niter_series10.min())"
   ]
  },
  {
   "cell_type": "code",
   "execution_count": 25,
   "metadata": {},
   "outputs": [
    {
     "data": {
      "text/plain": [
       "(0, 25.866488522140752)"
      ]
     },
     "execution_count": 25,
     "metadata": {},
     "output_type": "execute_result"
    },
    {
     "data": {
      "image/png": "[encoded data removed]",
      "text/plain": [
       "<Figure size 432x288 with 1 Axes>"
      ]
     },
     "metadata": {
      "needs_background": "light"
     },
     "output_type": "display_data"
    }
   ],
   "source": [
    "def try_br_alpha1(k):\n",
    "    return (pipe_and_train(\n",
    "        DictVectorizer(sparse=False), \n",
    "        StandardScaler(), \n",
    "        BayesianRidge(\n",
    "            n_iter=min_br_iter, \n",
    "            alpha_1=k)))\n",
    "\n",
    "temp = list(range(0, 11))\n",
    "br_alpha1_series = pd.Series().reindex(temp)\n",
    "for x in temp:\n",
    "    temp[x] = 1e-8 * (10 ** x)\n",
    "i = 0\n",
    "for x in temp:\n",
    "    br_alpha1_series[i] = x\n",
    "    i += 1\n",
    "br_alpha1_series = br_alpha1_series.apply(try_br_alpha1)\n",
    "plt.title(\"Bayesian Ridge - Alpha1\")\n",
    "plt.xlabel(\"Alpha1 : 1e-8 ( 10 ** x ))\")\n",
    "plt.ylabel(\"Crossover Result\")\n",
    "br_alpha1_series.plot.line()\n",
    "min_alpha1 = 1e-8 * ( 10 ** br_alpha1_series.idxmin()) \n",
    "(br_alpha1_series.idxmin(), br_alpha1_series.min())"
   ]
  },
  {
   "cell_type": "code",
   "execution_count": 27,
   "metadata": {},
   "outputs": [
    {
     "data": {
      "text/plain": [
       "(0, 25.866488522140752)"
      ]
     },
     "execution_count": 27,
     "metadata": {},
     "output_type": "execute_result"
    },
    {
     "data": {
      "image/png": "[encoded data removed]",
      "text/plain": [
       "<Figure size 432x288 with 1 Axes>"
      ]
     },
     "metadata": {
      "needs_background": "light"
     },
     "output_type": "display_data"
    }
   ],
   "source": [
    "def try_br_alpha2(k):\n",
    "    return (pipe_and_train(\n",
    "        DictVectorizer(sparse=False), \n",
    "        StandardScaler(), \n",
    "        BayesianRidge(n_iter=min_br_iter, \n",
    "                      alpha_1=min_alpha1, \n",
    "                      alpha_2=k)))\n",
    "\n",
    "temp = list(range(0, 11))\n",
    "br_alpha2_series = pd.Series().reindex(temp)\n",
    "for x in temp:\n",
    "    temp[x] = 1e-8 * (10 ** x)\n",
    "i = 0\n",
    "for x in temp:\n",
    "    br_alpha2_series[i] = x\n",
    "    i += 1\n",
    "br_alpha2_series = br_alpha2_series.apply(try_br_alpha2)\n",
    "plt.title(\"Bayesian Ridge - Alpha2\")\n",
    "plt.xlabel(\"Alpha2 : 1e-8 ( 10 ** x ))\")\n",
    "plt.ylabel(\"Crossover Result\")\n",
    "br_alpha2_series.plot.line()\n",
    "min_alpha2 = 1e-8 * ( 10 ** br_alpha2_series.idxmin()) \n",
    "(br_alpha2_series.idxmin(), br_alpha2_series.min())"
   ]
  },
  {
   "cell_type": "code",
   "execution_count": 30,
   "metadata": {},
   "outputs": [
    {
     "data": {
      "text/plain": [
       "(0, 25.866488522140752)"
      ]
     },
     "execution_count": 30,
     "metadata": {},
     "output_type": "execute_result"
    },
    {
     "data": {
      "image/png": "[encoded data removed]",
      "text/plain": [
       "<Figure size 432x288 with 1 Axes>"
      ]
     },
     "metadata": {
      "needs_background": "light"
     },
     "output_type": "display_data"
    }
   ],
   "source": [
    "def try_br_lambda1(k):\n",
    "    return (pipe_and_train(\n",
    "        DictVectorizer(sparse=False), \n",
    "        StandardScaler(), \n",
    "        BayesianRidge(n_iter=min_br_iter, \n",
    "                      alpha_1=min_alpha1, \n",
    "                      alpha_2=min_alpha2, \n",
    "                      lambda_1 = k)))\n",
    "\n",
    "temp = list(range(0, 11))\n",
    "br_lambda1_series = pd.Series().reindex(temp)\n",
    "for x in temp:\n",
    "    temp[x] = 1e-8 * (10 ** x)\n",
    "i = 0\n",
    "for x in temp:\n",
    "    br_lambda1_series[i] = x\n",
    "    i += 1\n",
    "br_lambda1_series = br_lambda1_series.apply(try_br_lambda1)\n",
    "plt.title(\"Bayesian Ridge - Lambda1\")\n",
    "plt.xlabel(\"Lambda1 : 1e-8 ( 10 ** x ))\")\n",
    "plt.ylabel(\"Crossover Result\")\n",
    "br_lambda1_series.plot.line()\n",
    "min_lambda1 = 1e-8 * ( 10 ** br_lambda1_series.idxmin()) \n",
    "(br_lambda1_series.idxmin(), br_lambda1_series.min())"
   ]
  },
  {
   "cell_type": "code",
   "execution_count": 31,
   "metadata": {},
   "outputs": [
    {
     "name": "stdout",
     "output_type": "stream",
     "text": [
      "Begin Training\n",
      "1.0 \n",
      "2.0 \n",
      "3.0 \n",
      "4.0 \n",
      "5.0 \n"
     ]
    },
    {
     "data": {
      "text/plain": [
       "(1, 25.97399865315704)"
      ]
     },
     "execution_count": 31,
     "metadata": {},
     "output_type": "execute_result"
    },
    {
     "data": {
      "image/png": "[encoded data removed]",
      "text/plain": [
       "<Figure size 432x288 with 1 Axes>"
      ]
     },
     "metadata": {
      "needs_background": "light"
     },
     "output_type": "display_data"
    }
   ],
   "source": [
    "####### SVR #############\n",
    "def try_svr_poly_deg(k):\n",
    "    print(str(k) + \" \")\n",
    "    return (pipe_and_train(\n",
    "        DictVectorizer(sparse=False), \n",
    "        StandardScaler(), \n",
    "        SVR(\n",
    "            kernel=\"poly\", \n",
    "            degree=int(round(k)))))\n",
    "\n",
    "\n",
    "svr_poly_series = set_series(1, 6, type=\"float\")\n",
    "print(\"Begin Training\")\n",
    "svr_poly_series = svr_poly_series.apply(try_svr_poly_deg)\n",
    "plt.title(\"SVR Poly Degree (1-5)\")\n",
    "plt.xlabel(\"Degree\")\n",
    "plt.ylabel(\"Crossover Result\")\n",
    "svr_poly_series.plot.line()\n",
    "(svr_poly_series.idxmin(), svr_poly_series.min())"
   ]
  },
  {
   "cell_type": "code",
   "execution_count": 32,
   "metadata": {},
   "outputs": [
    {
     "data": {
      "text/plain": [
       "24.39396805843456"
      ]
     },
     "execution_count": 32,
     "metadata": {},
     "output_type": "execute_result"
    }
   ],
   "source": [
    "#SVR RBF\n",
    "(pipe_and_train(\n",
    "    DictVectorizer(sparse=False), \n",
    "    StandardScaler(), \n",
    "    SVR()))"
   ]
  },
  {
   "cell_type": "code",
   "execution_count": 33,
   "metadata": {},
   "outputs": [
    {
     "data": {
      "text/plain": [
       "22.513349808104554"
      ]
     },
     "execution_count": 33,
     "metadata": {},
     "output_type": "execute_result"
    }
   ],
   "source": [
    "####### Kmeans from 5A ###########\n",
    "(pipe_and_train(\n",
    "    DictVectorizer(sparse=False), \n",
    "    StandardScaler(), \n",
    "    KNeighborsRegressor(\n",
    "        n_neighbors=16, \n",
    "        metric='manhattan')))"
   ]
  },
  {
   "cell_type": "code",
   "execution_count": 34,
   "metadata": {},
   "outputs": [],
   "source": [
    "######## Gaussian Process Regressor ##########\n",
    "\n",
    "print_iteration = 1\n",
    "def try_gpr_alpha(k):\n",
    "    if (k % print_iteration) == 0:\n",
    "        print(str(k) + \" \")\n",
    "    return (pipe_and_train(\n",
    "        DictVectorizer(sparse=False), \n",
    "        StandardScaler(), \n",
    "        GaussianProcessRegressor(alpha=k)))"
   ]
  },
  {
   "cell_type": "code",
   "execution_count": 35,
   "metadata": {},
   "outputs": [
    {
     "name": "stdout",
     "output_type": "stream",
     "text": [
      "Begin Training: \n",
      "1.0 \n",
      "10.0 \n",
      "100.0 \n",
      "1000.0 \n",
      "10000.0 \n",
      "100000.0 \n",
      "1000000.0 \n"
     ]
    },
    {
     "data": {
      "text/plain": [
       "(1.0, 23.826371565651307)"
      ]
     },
     "execution_count": 35,
     "metadata": {},
     "output_type": "execute_result"
    },
    {
     "data": {
      "image/png": "[encoded data removed]",
      "text/plain": [
       "<Figure size 432x288 with 1 Axes>"
      ]
     },
     "metadata": {
      "needs_background": "light"
     },
     "output_type": "display_data"
    }
   ],
   "source": [
    "temp = list(range(0,20))\n",
    "for x in temp:\n",
    "    temp[x] = 1e-13 * (10 ** x)\n",
    "\n",
    "\n",
    "gpr_alpha_series = pd.Series(temp)\n",
    "gpr_alpha_series = gpr_alpha_series.reindex(temp)\n",
    "for x in temp:\n",
    "    gpr_alpha_series[x] = x\n",
    "\n",
    "\n",
    "print(\"Begin Training: \")\n",
    "gpr_alpha_series = gpr_alpha_series.apply(try_gpr_alpha)\n",
    "plt.title(\"Gaussian Process Regressor, Alpha and Crossover where Alpha=1e-13 to 1e6\")\n",
    "plt.xscale(\"log\")\n",
    "plt.yscale(\"log\")\n",
    "plt.xlabel(\"Alpha\")\n",
    "plt.ylabel(\"Crossover Result\")\n",
    "gpr_alpha_series.plot.line()\n",
    "(gpr_alpha_series.idxmin(), gpr_alpha_series.min())"
   ]
  },
  {
   "cell_type": "code",
   "execution_count": 39,
   "metadata": {},
   "outputs": [
    {
     "name": "stdout",
     "output_type": "stream",
     "text": [
      "Begin Training: \n",
      "1.0 \n",
      "2.0 \n",
      "3.0 \n",
      "4.0 \n",
      "5.0 \n",
      "6.0 \n",
      "7.0 \n",
      "8.0 \n",
      "9.0 \n",
      "10.0 \n"
     ]
    },
    {
     "data": {
      "text/plain": [
       "(1.5, 23.805646831537192)"
      ]
     },
     "execution_count": 39,
     "metadata": {},
     "output_type": "execute_result"
    },
    {
     "data": {
      "image/png": "[encoded data removed]",
      "text/plain": [
       "<Figure size 432x288 with 1 Axes>"
      ]
     },
     "metadata": {
      "needs_background": "light"
     },
     "output_type": "display_data"
    }
   ],
   "source": [
    "#Closer look at Gaussian Process Regressor dip (0.1 to 10)\n",
    "temp = list(range(1, 101))\n",
    "i = 0\n",
    "for x in temp:\n",
    "    temp[i] = round(x * 0.1, 1)\n",
    "    i += 1\n",
    "    \n",
    "gpr_alpha_series2 = pd.Series()\n",
    "gpr_alpha_series2 = gpr_alpha_series2.reindex(temp)\n",
    "for x in temp:\n",
    "    gpr_alpha_series2[x] = x\n",
    "\n",
    "print_iteration = 1\n",
    "print(\"Begin Training: \")\n",
    "gpr_alpha_series2 = gpr_alpha_series2.apply(try_gpr_alpha)\n",
    "plt.title(\"Gaussian Process Regressor, Alpha and Crossover where Alpha=0.1 to 10\")\n",
    "plt.xlabel(\"Alpha\")\n",
    "plt.ylabel(\"Crossover Result\")\n",
    "gpr_alpha_series2.plot.line()\n",
    "(gpr_alpha_series2.idxmin(), gpr_alpha_series2.min())"
   ]
  },
  {
   "cell_type": "code",
   "execution_count": 40,
   "metadata": {},
   "outputs": [
    {
     "name": "stderr",
     "output_type": "stream",
     "text": [
      "C:\\Users\\James\\AppData\\Local\\Programs\\Python\\Python35\\lib\\site-packages\\sklearn\\neural_network\\multilayer_perceptron.py:562: ConvergenceWarning: Stochastic Optimizer: Maximum iterations (100) reached and the optimization hasn't converged yet.\n",
      "  % self.max_iter, ConvergenceWarning)\n",
      "C:\\Users\\James\\AppData\\Local\\Programs\\Python\\Python35\\lib\\site-packages\\sklearn\\neural_network\\multilayer_perceptron.py:562: ConvergenceWarning: Stochastic Optimizer: Maximum iterations (100) reached and the optimization hasn't converged yet.\n",
      "  % self.max_iter, ConvergenceWarning)\n",
      "C:\\Users\\James\\AppData\\Local\\Programs\\Python\\Python35\\lib\\site-packages\\sklearn\\neural_network\\multilayer_perceptron.py:562: ConvergenceWarning: Stochastic Optimizer: Maximum iterations (100) reached and the optimization hasn't converged yet.\n",
      "  % self.max_iter, ConvergenceWarning)\n",
      "C:\\Users\\James\\AppData\\Local\\Programs\\Python\\Python35\\lib\\site-packages\\sklearn\\neural_network\\multilayer_perceptron.py:562: ConvergenceWarning: Stochastic Optimizer: Maximum iterations (100) reached and the optimization hasn't converged yet.\n",
      "  % self.max_iter, ConvergenceWarning)\n",
      "C:\\Users\\James\\AppData\\Local\\Programs\\Python\\Python35\\lib\\site-packages\\sklearn\\neural_network\\multilayer_perceptron.py:562: ConvergenceWarning: Stochastic Optimizer: Maximum iterations (100) reached and the optimization hasn't converged yet.\n",
      "  % self.max_iter, ConvergenceWarning)\n",
      "C:\\Users\\James\\AppData\\Local\\Programs\\Python\\Python35\\lib\\site-packages\\sklearn\\neural_network\\multilayer_perceptron.py:562: ConvergenceWarning: Stochastic Optimizer: Maximum iterations (200) reached and the optimization hasn't converged yet.\n",
      "  % self.max_iter, ConvergenceWarning)\n",
      "C:\\Users\\James\\AppData\\Local\\Programs\\Python\\Python35\\lib\\site-packages\\sklearn\\neural_network\\multilayer_perceptron.py:562: ConvergenceWarning: Stochastic Optimizer: Maximum iterations (200) reached and the optimization hasn't converged yet.\n",
      "  % self.max_iter, ConvergenceWarning)\n",
      "C:\\Users\\James\\AppData\\Local\\Programs\\Python\\Python35\\lib\\site-packages\\sklearn\\neural_network\\multilayer_perceptron.py:562: ConvergenceWarning: Stochastic Optimizer: Maximum iterations (200) reached and the optimization hasn't converged yet.\n",
      "  % self.max_iter, ConvergenceWarning)\n",
      "C:\\Users\\James\\AppData\\Local\\Programs\\Python\\Python35\\lib\\site-packages\\sklearn\\neural_network\\multilayer_perceptron.py:562: ConvergenceWarning: Stochastic Optimizer: Maximum iterations (200) reached and the optimization hasn't converged yet.\n",
      "  % self.max_iter, ConvergenceWarning)\n",
      "C:\\Users\\James\\AppData\\Local\\Programs\\Python\\Python35\\lib\\site-packages\\sklearn\\neural_network\\multilayer_perceptron.py:562: ConvergenceWarning: Stochastic Optimizer: Maximum iterations (200) reached and the optimization hasn't converged yet.\n",
      "  % self.max_iter, ConvergenceWarning)\n",
      "C:\\Users\\James\\AppData\\Local\\Programs\\Python\\Python35\\lib\\site-packages\\sklearn\\neural_network\\multilayer_perceptron.py:562: ConvergenceWarning: Stochastic Optimizer: Maximum iterations (300) reached and the optimization hasn't converged yet.\n",
      "  % self.max_iter, ConvergenceWarning)\n",
      "C:\\Users\\James\\AppData\\Local\\Programs\\Python\\Python35\\lib\\site-packages\\sklearn\\neural_network\\multilayer_perceptron.py:562: ConvergenceWarning: Stochastic Optimizer: Maximum iterations (300) reached and the optimization hasn't converged yet.\n",
      "  % self.max_iter, ConvergenceWarning)\n",
      "C:\\Users\\James\\AppData\\Local\\Programs\\Python\\Python35\\lib\\site-packages\\sklearn\\neural_network\\multilayer_perceptron.py:562: ConvergenceWarning: Stochastic Optimizer: Maximum iterations (300) reached and the optimization hasn't converged yet.\n",
      "  % self.max_iter, ConvergenceWarning)\n",
      "C:\\Users\\James\\AppData\\Local\\Programs\\Python\\Python35\\lib\\site-packages\\sklearn\\neural_network\\multilayer_perceptron.py:562: ConvergenceWarning: Stochastic Optimizer: Maximum iterations (300) reached and the optimization hasn't converged yet.\n",
      "  % self.max_iter, ConvergenceWarning)\n",
      "C:\\Users\\James\\AppData\\Local\\Programs\\Python\\Python35\\lib\\site-packages\\sklearn\\neural_network\\multilayer_perceptron.py:562: ConvergenceWarning: Stochastic Optimizer: Maximum iterations (300) reached and the optimization hasn't converged yet.\n",
      "  % self.max_iter, ConvergenceWarning)\n",
      "C:\\Users\\James\\AppData\\Local\\Programs\\Python\\Python35\\lib\\site-packages\\sklearn\\neural_network\\multilayer_perceptron.py:562: ConvergenceWarning: Stochastic Optimizer: Maximum iterations (400) reached and the optimization hasn't converged yet.\n",
      "  % self.max_iter, ConvergenceWarning)\n",
      "C:\\Users\\James\\AppData\\Local\\Programs\\Python\\Python35\\lib\\site-packages\\sklearn\\neural_network\\multilayer_perceptron.py:562: ConvergenceWarning: Stochastic Optimizer: Maximum iterations (400) reached and the optimization hasn't converged yet.\n",
      "  % self.max_iter, ConvergenceWarning)\n",
      "C:\\Users\\James\\AppData\\Local\\Programs\\Python\\Python35\\lib\\site-packages\\sklearn\\neural_network\\multilayer_perceptron.py:562: ConvergenceWarning: Stochastic Optimizer: Maximum iterations (400) reached and the optimization hasn't converged yet.\n",
      "  % self.max_iter, ConvergenceWarning)\n",
      "C:\\Users\\James\\AppData\\Local\\Programs\\Python\\Python35\\lib\\site-packages\\sklearn\\neural_network\\multilayer_perceptron.py:562: ConvergenceWarning: Stochastic Optimizer: Maximum iterations (400) reached and the optimization hasn't converged yet.\n",
      "  % self.max_iter, ConvergenceWarning)\n",
      "C:\\Users\\James\\AppData\\Local\\Programs\\Python\\Python35\\lib\\site-packages\\sklearn\\neural_network\\multilayer_perceptron.py:562: ConvergenceWarning: Stochastic Optimizer: Maximum iterations (400) reached and the optimization hasn't converged yet.\n",
      "  % self.max_iter, ConvergenceWarning)\n",
      "C:\\Users\\James\\AppData\\Local\\Programs\\Python\\Python35\\lib\\site-packages\\sklearn\\neural_network\\multilayer_perceptron.py:562: ConvergenceWarning: Stochastic Optimizer: Maximum iterations (500) reached and the optimization hasn't converged yet.\n",
      "  % self.max_iter, ConvergenceWarning)\n",
      "C:\\Users\\James\\AppData\\Local\\Programs\\Python\\Python35\\lib\\site-packages\\sklearn\\neural_network\\multilayer_perceptron.py:562: ConvergenceWarning: Stochastic Optimizer: Maximum iterations (500) reached and the optimization hasn't converged yet.\n",
      "  % self.max_iter, ConvergenceWarning)\n",
      "C:\\Users\\James\\AppData\\Local\\Programs\\Python\\Python35\\lib\\site-packages\\sklearn\\neural_network\\multilayer_perceptron.py:562: ConvergenceWarning: Stochastic Optimizer: Maximum iterations (500) reached and the optimization hasn't converged yet.\n",
      "  % self.max_iter, ConvergenceWarning)\n",
      "C:\\Users\\James\\AppData\\Local\\Programs\\Python\\Python35\\lib\\site-packages\\sklearn\\neural_network\\multilayer_perceptron.py:562: ConvergenceWarning: Stochastic Optimizer: Maximum iterations (500) reached and the optimization hasn't converged yet.\n",
      "  % self.max_iter, ConvergenceWarning)\n",
      "C:\\Users\\James\\AppData\\Local\\Programs\\Python\\Python35\\lib\\site-packages\\sklearn\\neural_network\\multilayer_perceptron.py:562: ConvergenceWarning: Stochastic Optimizer: Maximum iterations (500) reached and the optimization hasn't converged yet.\n",
      "  % self.max_iter, ConvergenceWarning)\n",
      "C:\\Users\\James\\AppData\\Local\\Programs\\Python\\Python35\\lib\\site-packages\\sklearn\\neural_network\\multilayer_perceptron.py:562: ConvergenceWarning: Stochastic Optimizer: Maximum iterations (600) reached and the optimization hasn't converged yet.\n",
      "  % self.max_iter, ConvergenceWarning)\n",
      "C:\\Users\\James\\AppData\\Local\\Programs\\Python\\Python35\\lib\\site-packages\\sklearn\\neural_network\\multilayer_perceptron.py:562: ConvergenceWarning: Stochastic Optimizer: Maximum iterations (600) reached and the optimization hasn't converged yet.\n",
      "  % self.max_iter, ConvergenceWarning)\n",
      "C:\\Users\\James\\AppData\\Local\\Programs\\Python\\Python35\\lib\\site-packages\\sklearn\\neural_network\\multilayer_perceptron.py:562: ConvergenceWarning: Stochastic Optimizer: Maximum iterations (600) reached and the optimization hasn't converged yet.\n",
      "  % self.max_iter, ConvergenceWarning)\n",
      "C:\\Users\\James\\AppData\\Local\\Programs\\Python\\Python35\\lib\\site-packages\\sklearn\\neural_network\\multilayer_perceptron.py:562: ConvergenceWarning: Stochastic Optimizer: Maximum iterations (600) reached and the optimization hasn't converged yet.\n",
      "  % self.max_iter, ConvergenceWarning)\n",
      "C:\\Users\\James\\AppData\\Local\\Programs\\Python\\Python35\\lib\\site-packages\\sklearn\\neural_network\\multilayer_perceptron.py:562: ConvergenceWarning: Stochastic Optimizer: Maximum iterations (600) reached and the optimization hasn't converged yet.\n",
      "  % self.max_iter, ConvergenceWarning)\n"
     ]
    },
    {
     "name": "stderr",
     "output_type": "stream",
     "text": [
      "C:\\Users\\James\\AppData\\Local\\Programs\\Python\\Python35\\lib\\site-packages\\sklearn\\neural_network\\multilayer_perceptron.py:562: ConvergenceWarning: Stochastic Optimizer: Maximum iterations (700) reached and the optimization hasn't converged yet.\n",
      "  % self.max_iter, ConvergenceWarning)\n",
      "C:\\Users\\James\\AppData\\Local\\Programs\\Python\\Python35\\lib\\site-packages\\sklearn\\neural_network\\multilayer_perceptron.py:562: ConvergenceWarning: Stochastic Optimizer: Maximum iterations (700) reached and the optimization hasn't converged yet.\n",
      "  % self.max_iter, ConvergenceWarning)\n",
      "C:\\Users\\James\\AppData\\Local\\Programs\\Python\\Python35\\lib\\site-packages\\sklearn\\neural_network\\multilayer_perceptron.py:562: ConvergenceWarning: Stochastic Optimizer: Maximum iterations (700) reached and the optimization hasn't converged yet.\n",
      "  % self.max_iter, ConvergenceWarning)\n",
      "C:\\Users\\James\\AppData\\Local\\Programs\\Python\\Python35\\lib\\site-packages\\sklearn\\neural_network\\multilayer_perceptron.py:562: ConvergenceWarning: Stochastic Optimizer: Maximum iterations (700) reached and the optimization hasn't converged yet.\n",
      "  % self.max_iter, ConvergenceWarning)\n",
      "C:\\Users\\James\\AppData\\Local\\Programs\\Python\\Python35\\lib\\site-packages\\sklearn\\neural_network\\multilayer_perceptron.py:562: ConvergenceWarning: Stochastic Optimizer: Maximum iterations (800) reached and the optimization hasn't converged yet.\n",
      "  % self.max_iter, ConvergenceWarning)\n",
      "C:\\Users\\James\\AppData\\Local\\Programs\\Python\\Python35\\lib\\site-packages\\sklearn\\neural_network\\multilayer_perceptron.py:562: ConvergenceWarning: Stochastic Optimizer: Maximum iterations (800) reached and the optimization hasn't converged yet.\n",
      "  % self.max_iter, ConvergenceWarning)\n",
      "C:\\Users\\James\\AppData\\Local\\Programs\\Python\\Python35\\lib\\site-packages\\sklearn\\neural_network\\multilayer_perceptron.py:562: ConvergenceWarning: Stochastic Optimizer: Maximum iterations (800) reached and the optimization hasn't converged yet.\n",
      "  % self.max_iter, ConvergenceWarning)\n",
      "C:\\Users\\James\\AppData\\Local\\Programs\\Python\\Python35\\lib\\site-packages\\sklearn\\neural_network\\multilayer_perceptron.py:562: ConvergenceWarning: Stochastic Optimizer: Maximum iterations (900) reached and the optimization hasn't converged yet.\n",
      "  % self.max_iter, ConvergenceWarning)\n",
      "C:\\Users\\James\\AppData\\Local\\Programs\\Python\\Python35\\lib\\site-packages\\sklearn\\neural_network\\multilayer_perceptron.py:562: ConvergenceWarning: Stochastic Optimizer: Maximum iterations (900) reached and the optimization hasn't converged yet.\n",
      "  % self.max_iter, ConvergenceWarning)\n",
      "C:\\Users\\James\\AppData\\Local\\Programs\\Python\\Python35\\lib\\site-packages\\sklearn\\neural_network\\multilayer_perceptron.py:562: ConvergenceWarning: Stochastic Optimizer: Maximum iterations (1000) reached and the optimization hasn't converged yet.\n",
      "  % self.max_iter, ConvergenceWarning)\n",
      "C:\\Users\\James\\AppData\\Local\\Programs\\Python\\Python35\\lib\\site-packages\\sklearn\\neural_network\\multilayer_perceptron.py:562: ConvergenceWarning: Stochastic Optimizer: Maximum iterations (1000) reached and the optimization hasn't converged yet.\n",
      "  % self.max_iter, ConvergenceWarning)\n",
      "C:\\Users\\James\\AppData\\Local\\Programs\\Python\\Python35\\lib\\site-packages\\sklearn\\neural_network\\multilayer_perceptron.py:562: ConvergenceWarning: Stochastic Optimizer: Maximum iterations (1100) reached and the optimization hasn't converged yet.\n",
      "  % self.max_iter, ConvergenceWarning)\n"
     ]
    },
    {
     "data": {
      "text/plain": [
       "(1100, 23.548392486379903)"
      ]
     },
     "execution_count": 40,
     "metadata": {},
     "output_type": "execute_result"
    },
    {
     "data": {
      "image/png": "[encoded data removed]",
      "text/plain": [
       "<Figure size 432x288 with 1 Axes>"
      ]
     },
     "metadata": {
      "needs_background": "light"
     },
     "output_type": "display_data"
    }
   ],
   "source": [
    "######## MLP Regressor #############\n",
    "def try_mlp_iteration(k):\n",
    "    return pipe_and_train(DictVectorizer(sparse=False), StandardScaler(), MLPRegressor(max_iter=int(round(k))))\n",
    "\n",
    "mlp_iteration_series = set_series(100, 1501, 100, type=\"float\")\n",
    "mlp_iteration_series = mlp_iteration_series.apply(try_mlp_iteration)\n",
    "\n",
    "plt.title(\"MLP Iterations\")\n",
    "plt.xlabel(\"Iterations\")\n",
    "plt.ylabel(\"Crossover Result\")\n",
    "mlp_iteration_series.plot.line()\n",
    "min_iteration = mlp_iteration_series.idxmin()\n",
    "(mlp_iteration_series.idxmin(), mlp_iteration_series.min())"
   ]
  },
  {
   "cell_type": "code",
   "execution_count": 41,
   "metadata": {},
   "outputs": [
    {
     "name": "stdout",
     "output_type": "stream",
     "text": [
      "10.0\n"
     ]
    },
    {
     "name": "stderr",
     "output_type": "stream",
     "text": [
      "C:\\Users\\James\\AppData\\Local\\Programs\\Python\\Python35\\lib\\site-packages\\sklearn\\neural_network\\multilayer_perceptron.py:562: ConvergenceWarning: Stochastic Optimizer: Maximum iterations (1100) reached and the optimization hasn't converged yet.\n",
      "  % self.max_iter, ConvergenceWarning)\n",
      "C:\\Users\\James\\AppData\\Local\\Programs\\Python\\Python35\\lib\\site-packages\\sklearn\\neural_network\\multilayer_perceptron.py:562: ConvergenceWarning: Stochastic Optimizer: Maximum iterations (1100) reached and the optimization hasn't converged yet.\n",
      "  % self.max_iter, ConvergenceWarning)\n",
      "C:\\Users\\James\\AppData\\Local\\Programs\\Python\\Python35\\lib\\site-packages\\sklearn\\neural_network\\multilayer_perceptron.py:562: ConvergenceWarning: Stochastic Optimizer: Maximum iterations (1100) reached and the optimization hasn't converged yet.\n",
      "  % self.max_iter, ConvergenceWarning)\n",
      "C:\\Users\\James\\AppData\\Local\\Programs\\Python\\Python35\\lib\\site-packages\\sklearn\\neural_network\\multilayer_perceptron.py:562: ConvergenceWarning: Stochastic Optimizer: Maximum iterations (1100) reached and the optimization hasn't converged yet.\n",
      "  % self.max_iter, ConvergenceWarning)\n",
      "C:\\Users\\James\\AppData\\Local\\Programs\\Python\\Python35\\lib\\site-packages\\sklearn\\neural_network\\multilayer_perceptron.py:562: ConvergenceWarning: Stochastic Optimizer: Maximum iterations (1100) reached and the optimization hasn't converged yet.\n",
      "  % self.max_iter, ConvergenceWarning)\n"
     ]
    },
    {
     "name": "stdout",
     "output_type": "stream",
     "text": [
      "20.0\n"
     ]
    },
    {
     "name": "stderr",
     "output_type": "stream",
     "text": [
      "C:\\Users\\James\\AppData\\Local\\Programs\\Python\\Python35\\lib\\site-packages\\sklearn\\neural_network\\multilayer_perceptron.py:562: ConvergenceWarning: Stochastic Optimizer: Maximum iterations (1100) reached and the optimization hasn't converged yet.\n",
      "  % self.max_iter, ConvergenceWarning)\n",
      "C:\\Users\\James\\AppData\\Local\\Programs\\Python\\Python35\\lib\\site-packages\\sklearn\\neural_network\\multilayer_perceptron.py:562: ConvergenceWarning: Stochastic Optimizer: Maximum iterations (1100) reached and the optimization hasn't converged yet.\n",
      "  % self.max_iter, ConvergenceWarning)\n",
      "C:\\Users\\James\\AppData\\Local\\Programs\\Python\\Python35\\lib\\site-packages\\sklearn\\neural_network\\multilayer_perceptron.py:562: ConvergenceWarning: Stochastic Optimizer: Maximum iterations (1100) reached and the optimization hasn't converged yet.\n",
      "  % self.max_iter, ConvergenceWarning)\n",
      "C:\\Users\\James\\AppData\\Local\\Programs\\Python\\Python35\\lib\\site-packages\\sklearn\\neural_network\\multilayer_perceptron.py:562: ConvergenceWarning: Stochastic Optimizer: Maximum iterations (1100) reached and the optimization hasn't converged yet.\n",
      "  % self.max_iter, ConvergenceWarning)\n",
      "C:\\Users\\James\\AppData\\Local\\Programs\\Python\\Python35\\lib\\site-packages\\sklearn\\neural_network\\multilayer_perceptron.py:562: ConvergenceWarning: Stochastic Optimizer: Maximum iterations (1100) reached and the optimization hasn't converged yet.\n",
      "  % self.max_iter, ConvergenceWarning)\n"
     ]
    },
    {
     "name": "stdout",
     "output_type": "stream",
     "text": [
      "30.0\n"
     ]
    },
    {
     "name": "stderr",
     "output_type": "stream",
     "text": [
      "C:\\Users\\James\\AppData\\Local\\Programs\\Python\\Python35\\lib\\site-packages\\sklearn\\neural_network\\multilayer_perceptron.py:562: ConvergenceWarning: Stochastic Optimizer: Maximum iterations (1100) reached and the optimization hasn't converged yet.\n",
      "  % self.max_iter, ConvergenceWarning)\n",
      "C:\\Users\\James\\AppData\\Local\\Programs\\Python\\Python35\\lib\\site-packages\\sklearn\\neural_network\\multilayer_perceptron.py:562: ConvergenceWarning: Stochastic Optimizer: Maximum iterations (1100) reached and the optimization hasn't converged yet.\n",
      "  % self.max_iter, ConvergenceWarning)\n",
      "C:\\Users\\James\\AppData\\Local\\Programs\\Python\\Python35\\lib\\site-packages\\sklearn\\neural_network\\multilayer_perceptron.py:562: ConvergenceWarning: Stochastic Optimizer: Maximum iterations (1100) reached and the optimization hasn't converged yet.\n",
      "  % self.max_iter, ConvergenceWarning)\n",
      "C:\\Users\\James\\AppData\\Local\\Programs\\Python\\Python35\\lib\\site-packages\\sklearn\\neural_network\\multilayer_perceptron.py:562: ConvergenceWarning: Stochastic Optimizer: Maximum iterations (1100) reached and the optimization hasn't converged yet.\n",
      "  % self.max_iter, ConvergenceWarning)\n",
      "C:\\Users\\James\\AppData\\Local\\Programs\\Python\\Python35\\lib\\site-packages\\sklearn\\neural_network\\multilayer_perceptron.py:562: ConvergenceWarning: Stochastic Optimizer: Maximum iterations (1100) reached and the optimization hasn't converged yet.\n",
      "  % self.max_iter, ConvergenceWarning)\n"
     ]
    },
    {
     "name": "stdout",
     "output_type": "stream",
     "text": [
      "40.0\n"
     ]
    },
    {
     "name": "stderr",
     "output_type": "stream",
     "text": [
      "C:\\Users\\James\\AppData\\Local\\Programs\\Python\\Python35\\lib\\site-packages\\sklearn\\neural_network\\multilayer_perceptron.py:562: ConvergenceWarning: Stochastic Optimizer: Maximum iterations (1100) reached and the optimization hasn't converged yet.\n",
      "  % self.max_iter, ConvergenceWarning)\n",
      "C:\\Users\\James\\AppData\\Local\\Programs\\Python\\Python35\\lib\\site-packages\\sklearn\\neural_network\\multilayer_perceptron.py:562: ConvergenceWarning: Stochastic Optimizer: Maximum iterations (1100) reached and the optimization hasn't converged yet.\n",
      "  % self.max_iter, ConvergenceWarning)\n"
     ]
    },
    {
     "name": "stdout",
     "output_type": "stream",
     "text": [
      "50.0\n"
     ]
    },
    {
     "name": "stderr",
     "output_type": "stream",
     "text": [
      "C:\\Users\\James\\AppData\\Local\\Programs\\Python\\Python35\\lib\\site-packages\\sklearn\\neural_network\\multilayer_perceptron.py:562: ConvergenceWarning: Stochastic Optimizer: Maximum iterations (1100) reached and the optimization hasn't converged yet.\n",
      "  % self.max_iter, ConvergenceWarning)\n",
      "C:\\Users\\James\\AppData\\Local\\Programs\\Python\\Python35\\lib\\site-packages\\sklearn\\neural_network\\multilayer_perceptron.py:562: ConvergenceWarning: Stochastic Optimizer: Maximum iterations (1100) reached and the optimization hasn't converged yet.\n",
      "  % self.max_iter, ConvergenceWarning)\n",
      "C:\\Users\\James\\AppData\\Local\\Programs\\Python\\Python35\\lib\\site-packages\\sklearn\\neural_network\\multilayer_perceptron.py:562: ConvergenceWarning: Stochastic Optimizer: Maximum iterations (1100) reached and the optimization hasn't converged yet.\n",
      "  % self.max_iter, ConvergenceWarning)\n"
     ]
    },
    {
     "name": "stdout",
     "output_type": "stream",
     "text": [
      "60.0\n",
      "70.0\n"
     ]
    },
    {
     "name": "stderr",
     "output_type": "stream",
     "text": [
      "C:\\Users\\James\\AppData\\Local\\Programs\\Python\\Python35\\lib\\site-packages\\sklearn\\neural_network\\multilayer_perceptron.py:562: ConvergenceWarning: Stochastic Optimizer: Maximum iterations (1100) reached and the optimization hasn't converged yet.\n",
      "  % self.max_iter, ConvergenceWarning)\n",
      "C:\\Users\\James\\AppData\\Local\\Programs\\Python\\Python35\\lib\\site-packages\\sklearn\\neural_network\\multilayer_perceptron.py:562: ConvergenceWarning: Stochastic Optimizer: Maximum iterations (1100) reached and the optimization hasn't converged yet.\n",
      "  % self.max_iter, ConvergenceWarning)\n"
     ]
    },
    {
     "name": "stdout",
     "output_type": "stream",
     "text": [
      "80.0\n"
     ]
    },
    {
     "name": "stderr",
     "output_type": "stream",
     "text": [
      "C:\\Users\\James\\AppData\\Local\\Programs\\Python\\Python35\\lib\\site-packages\\sklearn\\neural_network\\multilayer_perceptron.py:562: ConvergenceWarning: Stochastic Optimizer: Maximum iterations (1100) reached and the optimization hasn't converged yet.\n",
      "  % self.max_iter, ConvergenceWarning)\n",
      "C:\\Users\\James\\AppData\\Local\\Programs\\Python\\Python35\\lib\\site-packages\\sklearn\\neural_network\\multilayer_perceptron.py:562: ConvergenceWarning: Stochastic Optimizer: Maximum iterations (1100) reached and the optimization hasn't converged yet.\n",
      "  % self.max_iter, ConvergenceWarning)\n"
     ]
    },
    {
     "name": "stdout",
     "output_type": "stream",
     "text": [
      "90.0\n",
      "100.0\n",
      "110.0\n",
      "120.0\n",
      "130.0\n",
      "140.0\n",
      "150.0\n"
     ]
    },
    {
     "data": {
      "text/plain": [
       "(110, 23.61793128895831)"
      ]
     },
     "execution_count": 41,
     "metadata": {},
     "output_type": "execute_result"
    },
    {
     "data": {
      "image/png": "[encoded data removed]",
      "text/plain": [
       "<Figure size 432x288 with 1 Axes>"
      ]
     },
     "metadata": {
      "needs_background": "light"
     },
     "output_type": "display_data"
    }
   ],
   "source": [
    "def mlp_first_layer_tuning(k):\n",
    "    print(str(k))\n",
    "    return (pipe_and_train(\n",
    "        DictVectorizer(sparse=False), \n",
    "        StandardScaler(), \n",
    "        MLPRegressor(\n",
    "            hidden_layer_sizes=(int(round(k)),), \n",
    "            max_iter=min_iteration)))\n",
    "\n",
    "mlp_layer1_series = set_series(10, 151, 10, type=\"float\")\n",
    "mlp_layer1_series = mlp_layer1_series.apply(mlp_first_layer_tuning)\n",
    "\n",
    "plt.title(\"MLP First Layer\")\n",
    "plt.xlabel(\"Number of Nodes\")\n",
    "plt.ylabel(\"Crossover Result\")\n",
    "mlp_layer1_series.plot.line()\n",
    "layer1 = mlp_layer1_series.idxmin()\n",
    "(mlp_layer1_series.idxmin(), mlp_layer1_series.min())"
   ]
  },
  {
   "cell_type": "code",
   "execution_count": 42,
   "metadata": {},
   "outputs": [
    {
     "name": "stdout",
     "output_type": "stream",
     "text": [
      "10.0\n",
      "20.0\n",
      "30.0\n",
      "40.0\n",
      "50.0\n",
      "60.0\n",
      "70.0\n",
      "80.0\n",
      "90.0\n",
      "100.0\n",
      "110.0\n",
      "120.0\n",
      "130.0\n",
      "140.0\n",
      "150.0\n"
     ]
    },
    {
     "data": {
      "text/plain": [
       "(110, 23.44467564525101)"
      ]
     },
     "execution_count": 42,
     "metadata": {},
     "output_type": "execute_result"
    },
    {
     "data": {
      "image/png": "[encoded data removed]",
      "text/plain": [
       "<Figure size 432x288 with 1 Axes>"
      ]
     },
     "metadata": {
      "needs_background": "light"
     },
     "output_type": "display_data"
    }
   ],
   "source": [
    "def mlp_second_layer_tuning(k):\n",
    "    print(str(k))\n",
    "    return (pipe_and_train(\n",
    "        DictVectorizer(sparse=False), \n",
    "        StandardScaler(), \n",
    "        MLPRegressor(\n",
    "            hidden_layer_sizes=(layer1,int(round(k)),), \n",
    "            max_iter=min_iteration)))\n",
    "\n",
    "mlp_layer2_series = set_series(10, 151, 10, type=\"float\")\n",
    "mlp_layer2_series = mlp_layer2_series.apply(mlp_second_layer_tuning)\n",
    "\n",
    "plt.title(\"MLP Second Layer\")\n",
    "plt.xlabel(\"Number of Nodes\")\n",
    "plt.ylabel(\"Crossover Result\")\n",
    "mlp_layer2_series.plot.line()\n",
    "layer2 = mlp_layer2_series.idxmin()\n",
    "(mlp_layer2_series.idxmin(), mlp_layer2_series.min())"
   ]
  },
  {
   "cell_type": "code",
   "execution_count": 43,
   "metadata": {},
   "outputs": [
    {
     "name": "stdout",
     "output_type": "stream",
     "text": [
      "10.0\n",
      "20.0\n",
      "30.0\n",
      "40.0\n",
      "50.0\n",
      "60.0\n",
      "70.0\n",
      "80.0\n",
      "90.0\n",
      "100.0\n",
      "110.0\n",
      "120.0\n",
      "130.0\n",
      "140.0\n",
      "150.0\n"
     ]
    },
    {
     "data": {
      "text/plain": [
       "(50, 22.90357260414599)"
      ]
     },
     "execution_count": 43,
     "metadata": {},
     "output_type": "execute_result"
    },
    {
     "data": {
      "image/png": "[encoded data removed]",
      "text/plain": [
       "<Figure size 432x288 with 1 Axes>"
      ]
     },
     "metadata": {
      "needs_background": "light"
     },
     "output_type": "display_data"
    }
   ],
   "source": [
    "def mlp_third_layer_tuning(k):\n",
    "    print(str(k))\n",
    "    return (pipe_and_train(\n",
    "        DictVectorizer(sparse=False), \n",
    "        StandardScaler(), \n",
    "        MLPRegressor(\n",
    "            hidden_layer_sizes=(layer1, layer2, int(round(k)),), \n",
    "            max_iter=min_iteration)))\n",
    "\n",
    "mlp_layer3_series = set_series(10, 151, 10, type=\"float\")\n",
    "mlp_layer3_series = mlp_layer3_series.apply(mlp_third_layer_tuning)\n",
    "\n",
    "plt.title(\"MLP Third Layer\")\n",
    "plt.xlabel(\"Number of Nodes\")\n",
    "plt.ylabel(\"Crossover Result\")\n",
    "mlp_layer3_series.plot.line()\n",
    "layer3 = mlp_layer3_series.idxmin()\n",
    "(mlp_layer3_series.idxmin(), mlp_layer3_series.min())"
   ]
  },
  {
   "cell_type": "code",
   "execution_count": 46,
   "metadata": {},
   "outputs": [],
   "source": [
    "#result model used for prediction & result\n",
    "def predict(vec, scaler, model):\n",
    "    features = features1\n",
    "    x_dict_train = beers[features].to_dict(orient=\"records\")\n",
    "    x_dict = beers_test[features].to_dict(orient=\"records\")\n",
    "    y = beers[\"ibu\"]\n",
    "    pipeline = Pipeline([(\"vectorizer\", vec), (\"scaler\", scaler), (\"fit\", model)])\n",
    "    pipeline.fit(x_dict_train, y)\n",
    "    result = pipeline.predict(x_dict)\n",
    "    resultdf = pd.DataFrame()\n",
    "    resultdf[\"id\"] = beers_test[\"id\"].copy()\n",
    "    i = 0\n",
    "    for x in result:\n",
    "        resultdf.loc[i, \"ibu\"] = x\n",
    "        i += 1\n",
    "    resultdf.set_index(\"id\").to_csv(\"C:/Users/James/Downloads/predictions.csv\")\n",
    "\n",
    "predict(DictVectorizer(sparse=False),\n",
    "       StandardScaler(), \n",
    "       MLPRegressor(\n",
    "            hidden_layer_sizes=(layer1, layer2, layer3,), \n",
    "            max_iter=min_iteration))"
   ]
  },
  {
   "cell_type": "markdown",
   "metadata": {},
   "source": [
    "I first started out with textual data. I went through a few combinations of combining different textual data (Description, Available, Glass) as well as differnt n-grams. The most promising one was the combination of Description and Available with just 1 gram. I conducted hyperparameter tuning with k-neighbors regression. The result came out to be a crossover score of 24.9. This was not close to the k-means result I've gotten in 5A with just the quantitative variables. I was not able to figure out how to combine the two different types of data so I went along with the quantatative variables, which seemed to be a better representation. \n",
    "\n",
    "I moved on to a different model, Bayesian Ridge. When first running the training data set through the model, I received a score of 25.87. I tried to lower the score by tuning the number of iterations. It was able to reduce the score to 25.86, so I tried tuning other parameters. I tried tuning alpha1, alpha2, and lambda1. None of them changed the result. Ths result was still not close to the k-neighbors result. \n",
    "\n",
    "I tried using the Support Vector Regression (SVR). I tried out the polynomial aspect and tuned the degrees parameter. The cost of training was incredibly high. I ran degrees 1 to 10 and was not able to finish the training after 3 days. \n",
    "\n",
    "The next model I used was the Gaussian Process Regressor. I infered that it was related to the Gaussian formula and thought the alpha parameter would be important in fitting the model to the data set; hence I tuned alpha. I started out with the big picture. The default alpha value scikit learn provides is 1e-10, so I decided to conduct the tuning in a range that included 1e-10. 1e-15 gave me an error so I used the range 1e-13 to 1e6. This gave me a curve like when tuning k-neighbors. I looked closer at the area of interest (the dip) to see if I can get a more specific alpha and minimumm score. I used the range 0.1 to 10 with increments of 0.1. The result was having an alpha of 1.5 and a score of 23.8. On my local machine, I tried adjusting the n_restards_optimizer parameter, but no change came out of it so I didn't include it in the report. \n",
    "\n",
    "I then checked out Multi-Layer Perceptron (MLP). I determined the number of iterations to use first, and then tried seeing how many nodes each layer should have and how many layers the model should have. I read here (https://stats.stackexchange.com/questions/181/how-to-choose-the-number-of-hidden-layers-and-nodes-in-a-feedforward-neural-netw) about choosing the number of layers and nodes. The most I got out of it was that usually 1 layer would suffice, making me expect a low number of layers. I tested layer by layer. There were several issues when using this model. One was I kept getting warnings making my output messy. Another was that the result of training changes each time I run it. For example, on my laptop I tuned iterations multiple times and each time produced a different but similar result. In the end, I reach the third layer with my results being 22.90, closest to the k-neighbors value I had before. \n",
    "\n",
    "As a result, none of the models I chose were able to beat the k-neighbors model so I decided to use that one as my submission to Kaggle."
   ]
  },
  {
   "cell_type": "code",
   "execution_count": null,
   "metadata": {},
   "outputs": [],
   "source": []
  }
 ],
 "metadata": {
  "kernelspec": {
   "display_name": "Python 3",
   "language": "python",
   "name": "python3"
  },
  "language_info": {
   "codemirror_mode": {
    "name": "ipython",
    "version": 3
   },
   "file_extension": ".py",
   "mimetype": "text/x-python",
   "name": "python",
   "nbconvert_exporter": "python",
   "pygments_lexer": "ipython3",
   "version": "3.6.3"
  }
 },
 "nbformat": 4,
 "nbformat_minor": 2
}
